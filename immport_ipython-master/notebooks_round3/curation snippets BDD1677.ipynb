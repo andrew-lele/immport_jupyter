{
 "cells": [
  {
   "cell_type": "code",
   "execution_count": 1,
   "metadata": {},
   "outputs": [
    {
     "ename": "RuntimeError",
     "evalue": "module compiled against API version 0xa but this version of numpy is 0x9",
     "output_type": "error",
     "traceback": [
      "\u001b[0;31m---------------------------------------------------------------------------\u001b[0m",
      "\u001b[0;31mRuntimeError\u001b[0m                              Traceback (most recent call last)",
      "\u001b[0;31mRuntimeError\u001b[0m: module compiled against API version 0xa but this version of numpy is 0x9"
     ]
    }
   ],
   "source": [
    "import pandas as pd\n",
    "import re\n",
    "import os\n",
    "from collections import defaultdict"
   ]
  },
  {
   "cell_type": "markdown",
   "metadata": {},
   "source": [
    "#### JIRA BDD-1677  \n",
    "**Goal:**  \n",
    "Curation of clinical data SDY144"
   ]
  },
  {
   "cell_type": "code",
   "execution_count": 2,
   "metadata": {},
   "outputs": [
    {
     "name": "stdout",
     "output_type": "stream",
     "text": [
      "Please enter file path for mapping subjects file, such as mapping_subjectIDs.txt: \n",
      "/home/ale\n",
      "Please enter file path for clinical data clinical_data_BDD1677.txt: \n",
      "/home/ale/asd\n",
      "Please enter file path for planned visits filepathplanned_visits.txt: \n",
      "/home/ale\n",
      "Please enter file path for assessments assessment_prep.txt: \n",
      "/home/ale\n",
      "Please enter file path for adverse_events_prep adverse_events_prep.txt: \n",
      "/home/ale\n",
      "Please enter file path for interventions file interventions.txt: \n",
      "/home/ale\n",
      "Current directory: /home/ale/Documents/notebooks_round2\n",
      "\n",
      "Directory does not exist.. please enter file directory, i.e '/home/name/Dektop/BDD2204/file.txt0 for the file -- clinical_data_BDD1677.txt: \n",
      "/home/ale\n",
      "Current directory: /home/ale/Documents/notebooks_round2\n",
      "\n",
      "Current directory: /home/ale/Documents/notebooks_round2\n",
      "\n",
      "Current directory: /home/ale/Documents/notebooks_round2\n",
      "\n",
      "Current directory: /home/ale/Documents/notebooks_round2\n",
      "\n",
      "Current directory: /home/ale/Documents/notebooks_round2\n",
      "\n"
     ]
    }
   ],
   "source": [
    "##DIRECTORY CELL\n",
    "\n",
    "##checks to see if directory exists \n",
    "def exists(direc, file_name):\n",
    "    exists_ornah = os.path.isdir(direc)\n",
    "    while exists_ornah == False:\n",
    "        direc = input(\"Directory/file does not exist.. please enter file directory, i.e '/home/name/Dektop/BDD2204/file.txt0 for the file -- \" + file_name + ': \\n')\n",
    "        direc = os.path.normpath(direc)\n",
    "        exists_ornah = os.path.isdir(direc)\n",
    "    print('Current directory: ' + os.getcwd() + '\\n')\n",
    "    return(direc)\n",
    "\n",
    "filepaths = []\n",
    "examplefiles = ['mapping_subjectIDs.txt', 'clinical_data_BDD1677.txt', 'planned_visits.txt', 'assessment_prep.txt', 'adverse_events_prep.txt', 'interventions.txt']\n",
    "\n",
    "beg = 'Please enter file path for '\n",
    "mappfile = input(beg + 'mapping subjects file, such as ' + examplefiles[0] +': \\n')\n",
    "clinical_data = input(beg + \"clinical data, such as  \" + examplefiles[1] +': \\n')\n",
    "planned_visits = input(beg + \"planned visits filepath, such as \" + examplefiles[2] + ': \\n')\n",
    "template_assessment = input(beg + 'assessments, such as  '+ examplefiles[3] +': \\n')\n",
    "template_adverse_events = input(beg + 'adverse_events_prep , such as '  + examplefiles[4] +': \\n')\n",
    "template_interventions = input(beg + 'interventions file , such as '+ examplefiles[5] +': \\n')\n",
    "\n",
    "#NOTE: the input corrector is hard coded!!!\n",
    "filepaths = [mappfile, clinical_data, planned_visits, template_assessment, template_adverse_events, template_interventions]\n",
    "\n",
    "j = 0\n",
    "for i in filepaths:\n",
    "    exists(i, examplefiles[j])\n",
    "    j += 1 "
   ]
  },
  {
   "cell_type": "code",
   "execution_count": 3,
   "metadata": {},
   "outputs": [
    {
     "ename": "IsADirectoryError",
     "evalue": "[Errno 21] Is a directory: '/home/ale'",
     "output_type": "error",
     "traceback": [
      "\u001b[0;31m---------------------------------------------------------------------------\u001b[0m",
      "\u001b[0;31mIsADirectoryError\u001b[0m                         Traceback (most recent call last)",
      "\u001b[0;32m<ipython-input-3-a5683da2af51>\u001b[0m in \u001b[0;36m<module>\u001b[0;34m()\u001b[0m\n\u001b[1;32m      8\u001b[0m \u001b[0mstudy_acc\u001b[0m \u001b[0;34m=\u001b[0m \u001b[0;34m{\u001b[0m\u001b[0;34m}\u001b[0m\u001b[0;34m\u001b[0m\u001b[0m\n\u001b[1;32m      9\u001b[0m \u001b[0mages\u001b[0m \u001b[0;34m=\u001b[0m \u001b[0;34m{\u001b[0m\u001b[0;34m}\u001b[0m\u001b[0;34m\u001b[0m\u001b[0m\n\u001b[0;32m---> 10\u001b[0;31m \u001b[0;32mwith\u001b[0m \u001b[0mopen\u001b[0m\u001b[0;34m(\u001b[0m\u001b[0mmappfile\u001b[0m\u001b[0;34m)\u001b[0m \u001b[0;32mas\u001b[0m \u001b[0mmpfl\u001b[0m\u001b[0;34m:\u001b[0m\u001b[0;34m\u001b[0m\u001b[0m\n\u001b[0m\u001b[1;32m     11\u001b[0m     \u001b[0;32mfor\u001b[0m \u001b[0mmpflln\u001b[0m \u001b[0;32min\u001b[0m \u001b[0mmpfl\u001b[0m\u001b[0;34m:\u001b[0m\u001b[0;34m\u001b[0m\u001b[0m\n\u001b[1;32m     12\u001b[0m         \u001b[0mmpflln\u001b[0m \u001b[0;34m=\u001b[0m \u001b[0mmpflln\u001b[0m\u001b[0;34m.\u001b[0m\u001b[0mstrip\u001b[0m\u001b[0;34m(\u001b[0m\u001b[0;34m)\u001b[0m\u001b[0;34m\u001b[0m\u001b[0m\n",
      "\u001b[0;31mIsADirectoryError\u001b[0m: [Errno 21] Is a directory: '/home/ale'"
     ]
    }
   ],
   "source": [
    "## remap the subjects ID to subject ACC\n",
    "#mappfile = \"/home/cthomas/Desktop/cris/projects/BDD1677/mapping_subjectIDs.txt\"\n",
    "#clinical_data = \"/home/cthomas/Desktop/cris/projects/BDD1677/clinical_data_BDD1677.txt\"\n",
    "#planned_visits = \"/home/cthomas/Desktop/cris/projects/BDD1677/planned_visits.txt\"\n",
    "\n",
    "## get subject ID info\n",
    "subjectsIDs = {}\n",
    "study_acc = {}\n",
    "ages = {}\n",
    "with open(mappfile) as mpfl:\n",
    "    for mpflln in mpfl:\n",
    "        mpflln = mpflln.strip()\n",
    "        mpfllnstf = mpflln.split(\"\\t\")\n",
    "        subjectsIDs[mpfllnstf[1]] = mpfllnstf[0]\n",
    "        study_acc[mpfllnstf[1]] = mpfllnstf[3]\n",
    "        ages[mpfllnstf[1]] = mpfllnstf[2]\n",
    "\n",
    "pv = defaultdict(dict)   ## pv[USER DEF VISIT ID][SDY] = PV ACC\n",
    "pvdays = {}\n",
    "with open(planned_visits, \"r\") as pvsts:\n",
    "    for pvstsln in pvsts:\n",
    "        pvstsln = pvstsln.strip()\n",
    "        pvstslnstf = pvstsln.split(\"\\t\")\n",
    "        pv[pvstslnstf[1]][pvstslnstf[2]] = pvstslnstf[0]\n",
    "        pvdays[pvstslnstf[1]] = pvstslnstf[3]\n"
   ]
  },
  {
   "cell_type": "code",
   "execution_count": null,
   "metadata": {
    "collapsed": true
   },
   "outputs": [],
   "source": [
    "## prepare for adverse events, assessments and interventions:\n",
    "#########\n",
    "#template_assessment = \"/home/cthomas/Desktop/cris/projects/BDD1677/files/assessment_prep.txt\"\n",
    "#template_adverse_events = \"/home/cthomas/Desktop/cris/projects/BDD1677/files/adverse_events_prep.txt\"\n",
    "\n",
    "assessments = defaultdict(dict)\n",
    "interventions = defaultdict(dict)\n",
    "counter_ae = {\"SDY522\" : 0, \"SDY144\" : 0}\n",
    "empty = \"\"\n",
    "\n",
    "with open(clinical_data, \"r\") as clindata, open(template_adverse_events, \"w\") as ae:\n",
    "    ae.write(\"UID\\tsubID\\tSDY\\tname\\t\\tseverity\\toutcome\\tstartday\\t\\trelation_treatment\\n\")\n",
    "    \n",
    "    fl = clindata.readline()\n",
    "    \n",
    "    for line in clindata:\n",
    "        line = line.strip(\"\\n\")\n",
    "        data = line.split(\"\\t\")\n",
    "        for i in range(len(data)):\n",
    "            data[i] = data[i].strip()\n",
    "        if data[12].endswith(\"ing\"):\n",
    "            data[12] = pvdays[data[1]]\n",
    "        ID = \"~~\".join([data[0], data[1]])\n",
    "        if data[11].endswith(\"es\"):\n",
    "            counter_ae[study_acc[data[0]]] += 1\n",
    "            userAEid = \"_\".join([\"HIPCBaylor_AE\", study_acc[data[0]], \n",
    "                                 str(counter_ae[study_acc[data[0]]]).zfill(3)])\n",
    "            ae.write(\"\\t\".join([userAEid, subjectsIDs[data[0]], study_acc[data[0]], data[13], empty,\n",
    "                               \"Not_Specified\", \"Not_Specified\", data[12], empty, \"Not_Specified\"]))\n",
    "            ae.write(\"\\n\")\n",
    "        \n",
    "        if data[2].strip():\n",
    "            assessments[ID][\"Height\"] = data[2]\n",
    "        if data[3].strip():\n",
    "            assessments[ID][\"Weight\"] = data[3]\n",
    "        if data[5].strip():\n",
    "            assessments[ID][\"Temperature\"] = data[5]\n",
    "        if data[4].strip():\n",
    "            assessments[ID][\"Temperature_Method\"] = data[4]\n",
    "        if data[6].strip():\n",
    "            assessments[ID][\"Pulse\"] = data[6]\n",
    "        if data[7].strip():\n",
    "            assessments[ID][\"Systolic\"] = data[7]\n",
    "        if data[8].strip():\n",
    "            assessments[ID][\"Diastolic\"] = data[8]\n",
    "        if data[9].strip():\n",
    "            assessments[ID][\"Respiratory_Rate\"] = data[9]\n",
    "        if data[14].strip():\n",
    "            assessments[ID][\"Had_FLU_Vaccine_Past\"] = data[14]\n",
    "        if data[15].strip():\n",
    "            assessments[ID][\"Vaccine_Type_Past\"] = data[15]        \n",
    "        if data[16].strip():\n",
    "            assessments[ID][\"Flu_Confirmed_Before\"] = data[16]\n",
    "        if data[17].strip():\n",
    "            assessments[ID][\"Current_Diagnosis\"] = data[17] ## age unit at onset has to be a decimal. ...       \n",
    "        if data[10].strip():\n",
    "            interventions[ID][\"RX_Past2Weeks\"] = data[10]\n",
    "        if data[18].strip():\n",
    "            interventions[ID][\"Current_Medications\"] = data[18]\n",
    "\n"
   ]
  },
  {
   "cell_type": "code",
   "execution_count": null,
   "metadata": {
    "collapsed": true
   },
   "outputs": [],
   "source": [
    "## assessments:\n",
    "counter_as = {\"SDY522\" : 0, \"SDY144\" : 0}\n",
    "assmt_headers = \"\\tUID\\tplanned_visitID\\tcompname\\tday\\t\\tage\\tage_unit\\t\\t\\t\\tvalue\\tunit\\tcat\\tpos\\ttod\\tq\\twho\"\n",
    "flu_history = [\"Had_FLU_Vaccine_Past\", \"Vaccine_Type_Past\"] \n",
    "med_history = [\"Flu_Confirmed_Before\", \"Current_Diagnosis\"]\n",
    "ast_vitals = [\"Height\", \n",
    "              \"Weight\", \n",
    "              \"Temperature\", \n",
    "              \"Temperature_Method\", \n",
    "              \"Pulse\", \n",
    "              \"Systolic\", \n",
    "              \"Diastolic\", \n",
    "              \"Respiratory_Rate\"]\n",
    "na = \"N/A\"\n",
    "\n",
    "with open(template_assessment, \"w\") as ast:\n",
    "    ast.write(\"subID\\tasstPanelID\\tsdyID\\tasstName\\tasstType\\tstd\\tstatus\\tcrf\\tsepcol\")\n",
    "    ast.write(\"\\t\".join([assmt_headers * 24]))\n",
    "    ast.write(\"\\n\")\n",
    "    vitals = defaultdict(list)\n",
    "   \n",
    "    for allids in assessments:\n",
    "        user_subID, pvID = allids.split(\"~~\")\n",
    "        hstry = []\n",
    "        fluH = []\n",
    "        for assmt in assessments[allids]:\n",
    "            bidule = []\n",
    "            assess = []\n",
    "            if assessments[allids][assmt] == na:\n",
    "                assess.append(assessments[allids][assmt])\n",
    "            else: \n",
    "                assess = assessments[allids][assmt].split(r\"/\")\n",
    "            for trucs in assess:\n",
    "                counter_as[study_acc[user_subID]] += 1\n",
    "                asscompID = \"_\".join([\"HIPCBaylor\", study_acc[user_subID], assmt, \n",
    "                                  str(counter_as[study_acc[user_subID]]).zfill(4)])\n",
    "                bits = \"\\t\".join([asscompID, pv[pvID][study_acc[user_subID]], assmt, pvdays[pvID], empty,\n",
    "                                  ages[user_subID], \"Years\", empty, empty, empty, trucs,\n",
    "                                  empty, empty, empty, empty, empty, empty])\n",
    "                bidule.append(bits)\n",
    "\n",
    "            newbit = \"\\t\".join(bidule)        \n",
    "            if assmt in ast_vitals:\n",
    "                 vitals[user_subID].append(newbit)\n",
    "            if assmt in flu_history:\n",
    "                fluH.append(newbit)\n",
    "            if assmt in med_history:\n",
    "                hstry.append(newbit)\n",
    "\n",
    "        if hstry:\n",
    "            hsty = \"\\t\".join(hstry)\n",
    "            panelIDh = \"_\".join([\"HIPCBaylor\", study_acc[user_subID], \"medical_history\"])\n",
    "            ast.write(\"\\t\".join([subjectsIDs[user_subID], panelIDh, study_acc[user_subID], \"Medical History\", \n",
    "                                 \"Medical History\", empty, empty, empty, empty, hsty]))\n",
    "            ast.write(\"\\n\")\n",
    "        if fluH:\n",
    "            fluhist = \"\\t\".join(fluH)\n",
    "            panelIDf = \"_\".join([\"HIPCBaylor\", study_acc[user_subID], \"vaccination_history\"])\n",
    "            ast.write(\"\\t\".join([subjectsIDs[user_subID], panelIDf, study_acc[user_subID], \"Vaccination History\", \n",
    "                                 \"Medical History\", empty, empty, empty, empty, fluhist]))\n",
    "            ast.write(\"\\n\")\n",
    "\n",
    "    for patients in vitals:\n",
    "        if vitals[patients]:\n",
    "            vital = \"\\t\".join(vitals[patients])\n",
    "            panelIDv = \"_\".join([\"HIPCBaylor\", study_acc[patients], \"vital_signs\"])\n",
    "            ast.write(\"\\t\".join([subjectsIDs[patients], panelIDv, study_acc[patients], \"Vital Signs\", \n",
    "                                 \"Other\", empty, empty, empty, empty, vital]))\n",
    "            ast.write(\"\\n\")\n"
   ]
  },
  {
   "cell_type": "code",
   "execution_count": null,
   "metadata": {
    "collapsed": true
   },
   "outputs": [],
   "source": [
    "## intervention:\n",
    "    rx_past2Weeks\n",
    "    current medication"
   ]
  },
  {
   "cell_type": "code",
   "execution_count": null,
   "metadata": {
    "collapsed": true
   },
   "outputs": [],
   "source": [
    "#template_intervention = \"/home/cthomas/Desktop/cris/projects/BDD1677/files/interventions.txt\"\n",
    "counter_iv = {\"SDY522\" : 0, \"SDY144\" : 0}\n",
    "with open(template_intervention, \"w\") as iv:\n",
    "    ## prep template:\n",
    "    iv.write(\"\\t\".join([\"interventions\",\"Schema Version 2.30\",\"Content Version 2.30\"]))\n",
    "    iv.write(\"\\n\")\n",
    "    iv.write(\"Please do not delete or edit this column\\n\")\n",
    "    iv.write(\"\\t\".join([\"Column Name\",\"Intervention User-Defined ID\",\"Subject ID\",\"Study ID\",\n",
    "                        \"Name\",\"Compound Name\",\"Compound Role\",\"Dose Reported\",\"Start Day\",\n",
    "                        \"End Day\",\"Status\",\"Indication\",\"Formulation\",\"Dose\",\"Dose Units\",\n",
    "                        \"Dose Frequency per Interval\",\"Route of Administration\",\"Is Ongoing\",\n",
    "                        \"Start Time\",\"End Time\",\"Start Day From Partial Date\",\n",
    "                        \"End Day From Partial Date\",\"Duration\",\"Duration Unit\"]))\n",
    "    iv.write(\"\\n\")\n",
    "    \n",
    "    for idtites in interventions:\n",
    "        user_ID, pvisitID = idtites.split(\"~~\")\n",
    "        for inter in interventions[idtites]:\n",
    "            trc = interventions[idtites][inter].split(r\"/\")\n",
    "        \n",
    "            for meds in trc:\n",
    "                counter_iv[study_acc[user_ID]] += 1\n",
    "                start_day = pvdays[pvisitID]\n",
    "                if inter.endswith(\"eeks\"):\n",
    "                    start_day = int(start_day) - 14\n",
    "                ivID = \"_\".join([\"HIPCBaylor_IV\", study_acc[user_ID], str(counter_iv[study_acc[user_ID]]).zfill(3)])\n",
    "                iv.write(\"\\t\".join([empty, ivID, subjectsIDs[user_ID], study_acc[user_ID], meds, meds,\n",
    "                                   \"Concomitant Medication\", \"UNK\", str(start_day)]))\n",
    "                iv.write(\"\\t\" * 6)\n",
    "                iv.write(\"\\n\")"
   ]
  },
  {
   "cell_type": "code",
   "execution_count": null,
   "metadata": {
    "collapsed": true
   },
   "outputs": [],
   "source": []
  },
  {
   "cell_type": "code",
   "execution_count": null,
   "metadata": {
    "collapsed": true
   },
   "outputs": [],
   "source": []
  }
 ],
 "metadata": {
  "anaconda-cloud": {},
  "kernelspec": {
   "display_name": "Python 3",
   "language": "python",
   "name": "python3"
  },
  "language_info": {
   "codemirror_mode": {
    "name": "ipython",
    "version": 3
   },
   "file_extension": ".py",
   "mimetype": "text/x-python",
   "name": "python",
   "nbconvert_exporter": "python",
   "pygments_lexer": "ipython3",
   "version": "3.6.1"
  }
 },
 "nbformat": 4,
 "nbformat_minor": 1
}

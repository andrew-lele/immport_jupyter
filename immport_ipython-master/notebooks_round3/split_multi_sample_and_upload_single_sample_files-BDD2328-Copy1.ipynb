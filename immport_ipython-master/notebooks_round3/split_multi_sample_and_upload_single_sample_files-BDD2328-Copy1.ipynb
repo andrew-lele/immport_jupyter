{
 "cells": [
  {
   "cell_type": "code",
   "execution_count": 1,
   "metadata": {},
   "outputs": [
    {
     "ename": "RuntimeError",
     "evalue": "module compiled against API version 0xa but this version of numpy is 0x9",
     "output_type": "error",
     "traceback": [
      "\u001b[0;31m---------------------------------------------------------------------------\u001b[0m",
      "\u001b[0;31mRuntimeError\u001b[0m                              Traceback (most recent call last)",
      "\u001b[0;31mRuntimeError\u001b[0m: module compiled against API version 0xa but this version of numpy is 0x9"
     ]
    }
   ],
   "source": [
    "import sys\n",
    "import os\n",
    "import re\n",
    "import pandas as pd\n",
    "from collections import defaultdict"
   ]
  },
  {
   "cell_type": "markdown",
   "metadata": {},
   "source": [
    "#### JIRA BDD-2328 (SDY739)\n",
    "\n",
    "\n",
    "1) Multi-sample file :  \n",
    "SDY739:  \n",
    "`/home/cris/Desktop/cris/projects/BDD2328/files/Ertl_YO_14.581082.csv`   \n",
    "\n"
   ]
  },
  {
   "cell_type": "code",
   "execution_count": 2,
   "metadata": {},
   "outputs": [
    {
     "name": "stdout",
     "output_type": "stream",
     "text": [
      "Please enter file path for the uarray .csv: \n",
      "/home/cris/Desktop/cris/projects/BDD2328/files/Ertl_YO_14.581082.csv\n",
      "Please enter file path for gene expression sampleIDs .txt: \n",
      "\"/home/cris/Desktop/cris/projects/BDD2328/files/Ertl_YO_14.581082.csv\n"
     ]
    }
   ],
   "source": [
    "##DIRECTORY CELL\n",
    "beg = 'Please enter file path for '\n",
    "uarray = input(beg + 'the uarray .csv: \\n')\n",
    "mapping = input(beg + 'gene expression sampleIDs .txt: \\n')"
   ]
  },
  {
   "cell_type": "code",
   "execution_count": 3,
   "metadata": {},
   "outputs": [
    {
     "name": "stdout",
     "output_type": "stream",
     "text": [
      "Study account number (like 'SDY739'): \n",
      "\"/home/cris/Desktop/cris/projects/BDD2328/files/Ertl_YO_14.581082.csv\n",
      "experiment account number (like 'EXP14794'): \n",
      "\"/home/cris/Desktop/cris/projects/BDD2328/files/Ertl_YO_14.581082.csv\n"
     ]
    },
    {
     "ename": "FileNotFoundError",
     "evalue": "[Errno 2] No such file or directory: '\"/home/cris/Desktop/cris/projects/BDD2328/files/Ertl_YO_14.581082.csv'",
     "output_type": "error",
     "traceback": [
      "\u001b[0;31m---------------------------------------------------------------------------\u001b[0m",
      "\u001b[0;31mFileNotFoundError\u001b[0m                         Traceback (most recent call last)",
      "\u001b[0;32m<ipython-input-3-d52db40b403d>\u001b[0m in \u001b[0;36m<module>\u001b[0;34m()\u001b[0m\n\u001b[1;32m      9\u001b[0m \u001b[0;34m\u001b[0m\u001b[0m\n\u001b[1;32m     10\u001b[0m \u001b[0mesID\u001b[0m \u001b[0;34m=\u001b[0m \u001b[0;34m{\u001b[0m\u001b[0;34m}\u001b[0m\u001b[0;34m\u001b[0m\u001b[0m\n\u001b[0;32m---> 11\u001b[0;31m \u001b[0;32mwith\u001b[0m \u001b[0mopen\u001b[0m\u001b[0;34m(\u001b[0m\u001b[0mmapping\u001b[0m\u001b[0;34m,\u001b[0m \u001b[0;34m\"r\"\u001b[0m\u001b[0;34m)\u001b[0m \u001b[0;32mas\u001b[0m \u001b[0mmp\u001b[0m\u001b[0;34m:\u001b[0m\u001b[0;34m\u001b[0m\u001b[0m\n\u001b[0m\u001b[1;32m     12\u001b[0m     \u001b[0mmp\u001b[0m\u001b[0;34m.\u001b[0m\u001b[0mreadline\u001b[0m\u001b[0;34m(\u001b[0m\u001b[0;34m)\u001b[0m\u001b[0;34m\u001b[0m\u001b[0m\n\u001b[1;32m     13\u001b[0m     \u001b[0;32mfor\u001b[0m \u001b[0mmpl\u001b[0m \u001b[0;32min\u001b[0m \u001b[0mmp\u001b[0m\u001b[0;34m:\u001b[0m\u001b[0;34m\u001b[0m\u001b[0m\n",
      "\u001b[0;31mFileNotFoundError\u001b[0m: [Errno 2] No such file or directory: '\"/home/cris/Desktop/cris/projects/BDD2328/files/Ertl_YO_14.581082.csv'"
     ]
    }
   ],
   "source": [
    "study_acc = input(\"Study account number (like 'SDY739'): \\n\")\n",
    "exp_acc = input(\"experiment account number (like 'EXP14794'): \\n\")\n",
    "#uarray = \"/home/cris/Desktop/cris/projects/BDD2328/files/Ertl_YO_14.581082.csv\"\n",
    "#mapping = \"/home/cris/Desktop/cris/projects/BDD2328/files/sdy739.EXP14794.geneExpression.experimentSampleIDs.accessions.txt\"\n",
    "#df = pd.read_table(mapping)\n",
    "#df.head()\n",
    "### Get experiment sample acc mapping to user def accessions\n",
    "## need to change format Y.001.v1.14 to y4.Y.001.v1 so mapping works with result file\n",
    "\n",
    "esID = {}\n",
    "with open(mapping, \"r\") as mp:\n",
    "    mp.readline()\n",
    "    for mpl in mp:\n",
    "        acc = mpl.split(\"\\t\")\n",
    "        tmp = acc[1].split(\".\")\n",
    "        pre = tmp[0]\n",
    "        if (pre == 'O'):\n",
    "            pre = 'A'\n",
    "        userdef_acc = \".\".join([\"y4\", pre, tmp[1], tmp[2]])\n",
    "        esID[userdef_acc] = acc[0]"
   ]
  },
  {
   "cell_type": "code",
   "execution_count": null,
   "metadata": {},
   "outputs": [],
   "source": [
    "## FOR SDY648:\n",
    "# 1/ Get directory path and create output directory\n",
    "output_path_file = os.path.split(os.path.realpath(uarray))[0]\n",
    "sdy_dir = \"/\".join([output_path_file, study_acc, exp_acc])\n",
    "os.makedirs(sdy_dir, exist_ok=True)\n",
    "\n",
    "# 2/ Create new files and get the data to populate them.\n",
    "sdy_vals = defaultdict(dict)\n",
    "sdy_probes = {} \n",
    "sdy_files = {}\n",
    "userIDs=[]\n",
    "\n",
    "with open(uarray, \"r\") as ua:\n",
    "    # a. Get the experiment sample acc:\n",
    "    hdg = ua.readline()\n",
    "    hdg = hdg.strip()\n",
    "    hdgs = hdg.split(\"\\t\")\n",
    "    for k in range(4,len(hdgs)): \n",
    "        if esID[hdgs[k]].startswith(\"ES\"):\n",
    "            userIDs.append(esID[hdgs[k]])\n",
    "    print(\"processing...\")\n",
    "    \n",
    "    # b. Create the ouput files -- format will be SDY_ACC_EXP_ACC_EXP_SAM_ACC_NUM_microarray_result.txt\n",
    "    for esan in set(userIDs):\n",
    "        new_filename = \"_\".join([study_acc, exp_acc, esan, \"microarray_result.txt\"])\n",
    "        path_file = \"/\".join([sdy_dir, new_filename])\n",
    "        sdy_files[esan]= path_file\n",
    "        \n",
    "        with open(path_file, \"w\") as out1:\n",
    "            out1.write(\"PROBE_ID\\tACC\\tNAME\\tSYMBOL\\tVALUE\\n\")\n",
    "    \n",
    "    print(\"files created\")\n",
    "    print(\"getting data...\")\n",
    "    \n",
    "    secondline = ua.readline()\n",
    "    # c. Get the data for each expsample\n",
    "    for lignes in ua:\n",
    "        lignes = lignes.strip(\"\\n\")\n",
    "        values = lignes.split(\"\\t\")\n",
    "\n",
    "        ## get the probe infos\n",
    "        if not values[2].strip():\n",
    "            values[2]=\"NA\"\n",
    "\n",
    "        if not values[3].strip():\n",
    "            values[3]=\"NA\"\n",
    "        \n",
    "        probeinfo = \"\\t\".join([values[0], values[1], values[2], values[3]])\n",
    "        sdy_probes[values[0]] = probeinfo\n",
    "        \n",
    "        ## get the data for each expsample\n",
    "        for m in range(4,len(values)) :\n",
    "            sdy_vals[esID[hdgs[m]]][values[0]] = values[m]\n",
    "            \n",
    "            \n",
    "print(\"populating files...\")\n",
    "# 3/ Populate the files: \n",
    "\n",
    "for exp_samples in sdy_files:\n",
    "    with open(sdy_files[exp_samples], \"a\") as singlesplefile:\n",
    "        for probes in sdy_probes:\n",
    "            singlesplefile.write(\"\\t\".join([sdy_probes[probes], sdy_vals[exp_samples][probes]]))\n",
    "            singlesplefile.write(\"\\n\")\n",
    "print(\"done!\")"
   ]
  },
  {
   "cell_type": "markdown",
   "metadata": {},
   "source": [
    "\n",
    "3) Upload to IMMPORT. Upload ticket is .. cthomas_20161130_13487  \n",
    "4) Run Query 699 with upload ticket.  \n",
    "5) old file info id: 609663  \n",
    "6) prepare BCD script for update of the database   \n",
    "\n",
    "**Uploaded files**  \n",
    "Result of Query 699  \n",
    "`/home/cris/Desktop/cris/projects/BDD2328/files/cthomas_699_3799.txt\n",
    "`"
   ]
  },
  {
   "cell_type": "code",
   "execution_count": null,
   "metadata": {
    "scrolled": true
   },
   "outputs": [],
   "source": [
    "fnms = \"/home/cris/Desktop/cris/projects/BDD2328/files/cthomas_699_3799.txt\"\n",
    "df = pd.read_table(fnms)\n",
    "\n",
    "df.head()  \n"
   ]
  },
  {
   "cell_type": "code",
   "execution_count": null,
   "metadata": {
    "collapsed": true
   },
   "outputs": [],
   "source": [
    "## Check uniqueness of items under FILE_NAME\n",
    "if len(df.FILE_NAME)!=len(set(df.FILE_NAME)):\n",
    "    print(\"there are duplicates in list\")"
   ]
  },
  {
   "cell_type": "markdown",
   "metadata": {},
   "source": [
    "*__ for filenames containing EXP_SAM_ACC_NUM :__*"
   ]
  },
  {
   "cell_type": "code",
   "execution_count": null,
   "metadata": {},
   "outputs": [],
   "source": [
    "## Extract ES number in Query 699 outputs:\n",
    "def get_exp_sam_acc_num(nms):\n",
    "    es = re.search(\"ES\\d{7}\", nms)\n",
    "    return es.group()\n",
    "\n",
    "df[\"EXP_SAMPLE_ACC_NUM\"] = df.FILE_NAME.apply(get_exp_sam_acc_num)\n",
    "df.head()"
   ]
  },
  {
   "cell_type": "code",
   "execution_count": null,
   "metadata": {},
   "outputs": [],
   "source": [
    "## print the string to use in query 777 containing all EXP_SAM_ACC_NUM to re-link:\n",
    "tmp=[]\n",
    "## might need to change EXP_SAM_ACC_NUM and EXP_SAMPLE_ACC_NUM back and forth\n",
    "for i in set(df.EXP_SAMPLE_ACC_NUM):\n",
    "    nwstr=\"'\"+i+\"'\"\n",
    "    tmp.append(nwstr)\n",
    "query_text = \",\".join(tmp)\n",
    "print(query_text)"
   ]
  },
  {
   "cell_type": "markdown",
   "metadata": {},
   "source": [
    "Ran query 777 to check - they all have the same FILE_INFO_ID -- 609663"
   ]
  },
  {
   "cell_type": "code",
   "execution_count": null,
   "metadata": {},
   "outputs": [],
   "source": [
    "## For single sample files from splitting multisample:\n",
    "fid = \"609663\"\n",
    "nwdf = pd.DataFrame({'NEW_FILE_INFO_ID': df.FILE_INFO_ID, 'EXP_SAMPLE_ACC_NUM':df.EXP_SAMPLE_ACC_NUM, 'FILE_INFO_ID':fid})\n",
    "tmpp = pd.DataFrame({'EXP_SAMPLE_ACC_NUM': nwdf.EXP_SAMPLE_ACC_NUM, 'FILE_INFO_ID': nwdf.FILE_INFO_ID, 'NEW_FILE_INFO_ID': nwdf.NEW_FILE_INFO_ID })\n",
    "tmpp[\"DATA_FORMAT\"] = \"Illumina Microarray\"\n",
    "tmpp[\"RESULT_SCHEMA\"] = \"OTHER\"\n",
    "\n",
    "tmpp.head()\n"
   ]
  },
  {
   "cell_type": "markdown",
   "metadata": {},
   "source": [
    "BDC scripts:\n",
    "1. update file_info file purpose and file detail  \n",
    "`/home/cris/Desktop/cris/projects/BDD2328/bdc/BDC_FILE_INFO_UPD.SDY739_BDD2328.txt`\n",
    "2. expsample_2_file_info delete old FID + update FID   \n",
    "`/home/cris/Desktop/cris/projects/BDD2328/bdc/BDC_EXP_SAM_2_FILE_INFO_UPD.SDY739_BDD2328.txt`\n",
    "3. exp sample data format and result schema  \n",
    "`/home/cris/Desktop/cris/projects/BDD2328/bdc/BDC_EXPERIMENTAL_SAMPLE_UPD.SDY739_BDD2328.txt`"
   ]
  },
  {
   "cell_type": "code",
   "execution_count": null,
   "metadata": {
    "collapsed": true
   },
   "outputs": [],
   "source": [
    "output_path_file = os.path.split(os.path.realpath(fnms))[0]\n",
    "output_path = os.path.split(os.path.realpath(output_path_file))[0]\n",
    "\n",
    "#NAME OF BDC SCRIPTS\n",
    "bdc_script_upd_es2fi =  \"/\".join([output_path, \"bdc/BDC_EXP_SAM_2_FILE_INFO_UPD.SDY739_BDD2328.txt\"])  \n",
    "bdc_script_upd_fi =  \"/\".join([output_path, \"bdc/BDC_FILE_INFO_UPD.SDY739_BDD2328.txt\"])  \n",
    "bdc_script_upd_es =  \"/\".join([output_path, \"bdc/BDC_EXPERIMENTAL_SAMPLE_UPD.SDY739_BDD2328.txt\"])  \n",
    "\n",
    "tmp_dir = \"/\".join([output_path, \"tmp\"]) \n",
    "os.makedirs(tmp_dir, exist_ok=True)\n",
    "\n",
    "## UPDATE EXP_SAM_2_FILE_INFO\n",
    "ofile_es2fi = \"/\".join([output_path, \"tmp/bdc_update_exp_sam_2_file.txt\"]) \n",
    "tmpp.to_csv(ofile_es2fi, sep=\"\\t\", header=False, index=False)\n",
    "\n",
    "with open(bdc_script_upd_es2fi, \"w\") as bdc_upd_esfi:\n",
    "    bdc_upd_esfi.write(\"FORMAT\\tUPDATE_LINKAGE\\n\")\n",
    "    bdc_upd_esfi.write(\"TABLE_NAME\\tEXP_SAM_2_FILE_INFO\\n\")\n",
    "    bdc_upd_esfi.write(\"KEY_COLUMN\\tEXP_SAMPLE_ACC_NUM\\n\")\n",
    "    bdc_upd_esfi.write(\"CHANGING_COLUMN\\tFILE_INFO_ID\\n\")\n",
    "    bdc_upd_esfi.write(\"COLUMNS\\tDATA_FORMAT~RESULT_SCHEMA\\n\")\n",
    "    bdc_upd_esfi.write(\"DATA STARTED\\n\")\n",
    "    with open(ofile_es2fi, \"r\") as tmp_file1:\n",
    "        for line in tmp_file1:\n",
    "            bdc_upd_esfi.write(line)\n",
    "\n",
    "os.remove(ofile_es2fi)\n",
    "os.rmdir(\"/\".join([output_path, \"tmp\"]))\n",
    "\n",
    "## UPDATE FILE_INFO\n",
    "with open(bdc_script_upd_fi, \"w\") as bdc_upd_fi:\n",
    "    bdc_upd_fi.write(\"FORMAT\\tUPDATE_VAL\\n\")\n",
    "    bdc_upd_fi.write(\"TABLE_NAME\\tFILE_INFO\\n\")\n",
    "    bdc_upd_fi.write(\"KEY_COLUMN\\tFILE_INFO_ID\\n\")\n",
    "    bdc_upd_fi.write(\"COLUMNS\\tFILE_INFO_ID~FILE_DETAIL~FILE_PURPOSE\\n\")\n",
    "    bdc_upd_fi.write(\"DATA STARTED\\n\")\n",
    "    for k in set(tmpp.NEW_FILE_INFO_ID):\n",
    "        bdc_upd_fi.write(\"\\t\".join([str(k), \"Illumina BeadArray\",\"Gene expression result\"]))\n",
    "        bdc_upd_fi.write(\"\\n\")\n",
    "\n",
    "## UPDATE EXPERIMENTAL_SAMPLE\n",
    "with open(bdc_script_upd_es, \"w\") as bdc_upd_es:\n",
    "    bdc_upd_es.write(\"FORMAT\\tUPDATE_VAL\\n\")\n",
    "    bdc_upd_es.write(\"TABLE_NAME\\tEXPERIMENTAL_SAMPLE\\n\")\n",
    "    bdc_upd_es.write(\"KEY_COLUMN\\tEXP_SAMPLE_ACC_NUM\\n\")\n",
    "    bdc_upd_es.write(\"COLUMNS\\tEXP_SAMPLE_ACC_NUM~EXP_SAMPLE_DATA_FORMAT~EXP_SAMPLE_RESULT_SCHEMA\\n\")\n",
    "    bdc_upd_es.write(\"DATA STARTED\\n\")\n",
    "    for l in set(tmpp.EXP_SAMPLE_ACC_NUM):\n",
    "        bdc_upd_es.write(\"\\t\".join([str(l),\"Illumina Microarray\",\"OTHER\"]))\n",
    "        bdc_upd_es.write(\"\\n\")\n"
   ]
  },
  {
   "cell_type": "code",
   "execution_count": null,
   "metadata": {
    "collapsed": true
   },
   "outputs": [],
   "source": []
  },
  {
   "cell_type": "code",
   "execution_count": null,
   "metadata": {
    "collapsed": true
   },
   "outputs": [],
   "source": []
  }
 ],
 "metadata": {
  "anaconda-cloud": {},
  "kernelspec": {
   "display_name": "Python 3",
   "language": "python",
   "name": "python3"
  },
  "language_info": {
   "codemirror_mode": {
    "name": "ipython",
    "version": 3
   },
   "file_extension": ".py",
   "mimetype": "text/x-python",
   "name": "python",
   "nbconvert_exporter": "python",
   "pygments_lexer": "ipython3",
   "version": "3.6.1"
  }
 },
 "nbformat": 4,
 "nbformat_minor": 1
}

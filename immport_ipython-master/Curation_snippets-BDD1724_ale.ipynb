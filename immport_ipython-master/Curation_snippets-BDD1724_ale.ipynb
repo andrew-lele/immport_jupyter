{
 "cells": [
  {
   "cell_type": "code",
   "execution_count": null,
   "metadata": {
    "collapsed": true
   },
   "outputs": [],
   "source": [
    "from datetime import date\n",
    "import os\n",
    "from collections import defaultdict\n",
    "import re"
   ]
  },
  {
   "cell_type": "code",
   "execution_count": null,
   "metadata": {},
   "outputs": [
    {
     "name": "stdout",
     "output_type": "stream",
     "text": [
      "Enter file director, i.e '/home/name/Dektop/BDD1724\n",
      "/home/name/Dektop/BDD2204\n",
      "File does not exist.. please enter file directory, i.e '/home/name/Dektop/BDD2204 for the file BDD174, general folder: \n",
      "/home/name/Dektop/BDD2204/\n",
      "Attempted directory: /home/ale/notebooks/immport_ipython-master\n",
      "\n"
     ]
    }
   ],
   "source": [
    "###cell for file directories\n",
    "\n",
    "def exists(direc, file_name):\n",
    "    exists_ornah = os.path.exists(direc)\n",
    "    while exists_ornah == False:\n",
    "        #print('Attempted directory: ' + os.getcwd()+ '\\n')\n",
    "        if os.path.isdir(direc) == True:\n",
    "            direc = input(\"Directory does not exist.. please enter directory, i.e '/home/name/Dektop/BDD2204 for the file \" + file_name + ': \\n')\n",
    "        elif os.path.isdir(direc) == False:\n",
    "            direc = input(\"File does not exist.. please enter file directory, i.e '/home/name/Dektop/BDD2204 for the file \" + file_name + ': \\n')\n",
    "\n",
    "        direc = os.path.normpath(direc)\n",
    "        exists_ornah = os.path.exists(direc)\n",
    "        print('Attempted directory: ' + os.getcwd()+ '\\n')\n",
    "        \n",
    "    print('Current directory: ' + os.getcwd() +'/n')\n",
    "    return(direc)\n",
    "\n",
    "parent_dir = input(\"Enter file director, i.e '/home/name/Dektop/BDD1724\\n\")\n",
    "parent_dir = exists(parent_dir, 'BDD174, general folder')\n"
   ]
  },
  {
   "cell_type": "markdown",
   "metadata": {},
   "source": [
    "#### JIRA BDD-1724\n",
    "\n",
    "Goal: Curation of clinical data"
   ]
  },
  {
   "cell_type": "code",
   "execution_count": null,
   "metadata": {
    "scrolled": false
   },
   "outputs": [],
   "source": [
    "#day0file = \"/home/cthomas/Desktop/cris/projects/BDD1724/files/clinical_data_SDY369_372_376.txt\"\n",
    "#outputfile = \"/home/cthomas/Desktop/cris/projects/BDD1724/files/deID_clinical_data_SDY369_372_376.txt\"\n",
    "day0file = parent_dir + 'files/clinical_data_SDY369_372_376.txt' \n",
    "day0file = exists(day0file, 'folder containing clinical_data_SDY369_372_376.txt: clinical data?')\n",
    "\n",
    "outputfile = parent_dir + 'files/' \n",
    "outputfile = exists(day0file, 'deID_clinical_data_SDY369_372_376.txt: clinical data?')\n",
    "\n",
    "## De-identify dates:\n",
    "# Find day 0\n",
    "day0 = {}     # day0[SUBJECT_USER_DEFINED_ID] = DAY 0 in MM/DD/YYYY \n",
    "dates = defaultdict(dict)    # dates[SUBJECT_USER_DEFINED_ID][USER_DEF_PLANNED_VISIT_ID] = DATE in MM/DD/YYYY \n",
    "with open(day0file, \"r\") as day0f:\n",
    "    fl = day0f.readline()\n",
    "    \n",
    "    for lines in day0f:\n",
    "        elemts = lines.split(\"\\t\")\n",
    "        if elemts[2].startswith(\"D0\"):\n",
    "            day0[elemts[0]] = elemts[3]\n",
    "            dates[elemts[0]][elemts[2]] = elemts[3]\n",
    "        else:\n",
    "            dates[elemts[0]][elemts[2]] = elemts[3]\n",
    "        \n",
    "deIDdates = defaultdict(dict)\n",
    "# Re-calculate dates\n",
    "for subjects in dates:\n",
    "    for planned_visits in dates[subjects]:\n",
    "        mh0, dy0, yr0 = day0[subjects].split(\"/\")\n",
    "        mh, dy, yr = dates[subjects][planned_visits].split(\"/\")\n",
    "        newdate = date(int(yr), int(mh), int(dy)) - date(int(yr0), int(mh0), int(dy0))\n",
    "        deIDdates[subjects][planned_visits] = str(newdate.days)\n",
    "\n"
   ]
  },
  {
   "cell_type": "code",
   "execution_count": null,
   "metadata": {
    "collapsed": true
   },
   "outputs": [],
   "source": []
  },
  {
   "cell_type": "code",
   "execution_count": null,
   "metadata": {},
   "outputs": [],
   "source": [
    "## Get SUBJECTS ACC instead of user defined.\n",
    "## Ran query 923 to get mapping between user defined ID of subjects and ACC_NUM\n",
    "#mappingIDs = \"/home/cthomas/Desktop/cris/projects/BDD1724/files/cthomas_923_2779_userdefIDs-ACC.BDD1724.txt\"\n",
    "mappingIDs = parent_dir + 'files/cthomas_923_2779_userdefIDs-ACC.BDD1724.txt'\n",
    "mappingIDs = exists(mappingIDs, 'cthomas_923_2779_userdefIDs-ACC.BDD1724.txt: subbjects acc of user defined')\n",
    "\n",
    "subIDs = {}\n",
    "\n",
    "with open(mappingIDs, \"r\") as mpids:\n",
    "    ff = mpids.readline()\n",
    "    \n",
    "    for ligne in mpids:\n",
    "        ids = ligne.split(\"\\t\")\n",
    "        subIDs[ids[1]] = ids[0]"
   ]
  },
  {
   "cell_type": "code",
   "execution_count": null,
   "metadata": {
    "collapsed": true
   },
   "outputs": [],
   "source": [
    "## re-print inpt\n",
    "with open(day0file, \"r\") as inf, open(outputfile, \"w\") as outf:\n",
    "    headings = inf.readline()\n",
    "    outf.write(headings)\n",
    "    \n",
    "    for alllines in inf:\n",
    "        col = alllines.split(\"\\t\")\n",
    "        col[3] = deIDdates[col[0]][col[2]]\n",
    "        col[0] = subIDs[col[0]]\n",
    "        outf.write(\"\\t\".join(col))\n"
   ]
  },
  {
   "cell_type": "code",
   "execution_count": null,
   "metadata": {
    "collapsed": true
   },
   "outputs": [],
   "source": [
    "## Prepare table for transformation tool - assessment page.\n",
    "## need to add assessment panel ID, assessment name, assessment component ID, age at onset + unit\n",
    "#agesfile = \"/home/cthomas/Desktop/cris/projects/BDD1724/files/subjects_age_BDD1724.txt\"\n",
    "agesfile = parent_dir + 'files/subjects_age_BDD1724.txt'\n",
    "agesfile = exists(agesfile, 'subjects_age_BDD1724.txt: file of ages?')\n",
    "#assessmtfile = \"/home/cthomas/Desktop/cris/projects/BDD1724/files/subjects_assessments_BDD1724.txt\"\n",
    "assessmtfile = parent_dir + 'subjects_assessments_BDD1724.txt'\n",
    "assessmtfile = exists(assessmtfile, 'subjects_assessments_BDD1724.txt: file of the subjects assessments?')\n",
    "\n",
    "# output file\n",
    "#prepTTassessments = \"/home/cthomas/Desktop/cris/projects/BDD1724/files/prepTTassessments.txt\"\n",
    "prepTTassessments = parent_dir + 'files/prepTTassessments'\n",
    "prepTTassessments = exists(prepTTassessments, 'prepTTassessments.txt: output file for assesments')\n",
    "\n",
    "\n",
    "## get age of subjects\n",
    "ages = {}\n",
    "with open(agesfile, \"r\") as af:\n",
    "    fff = af.readline()\n",
    "    for subj in af:\n",
    "        subj = subj.strip()\n",
    "        subjectsAges = subj.split(\"\\t\")\n",
    "        ages[subIDs[subjectsAges[0]]] = subjectsAges[2]\n",
    "        \n",
    "## generate input file for transformation tool\n",
    "with open(assessmtfile, \"r\") as asfl, open(prepTTassessments, \"w\") as prpTT:\n",
    "    rer = asfl.readline()\n",
    "    rer = rer.strip()\n",
    "\n",
    "    newheadings = [\n",
    "        \"panel_id\",\n",
    "        \"comp_id_cmas\", \n",
    "        \"comp_id_mdglob\", \n",
    "        \"comp_id_mmt8\", \n",
    "        \"comp_id_symptoms\", \n",
    "        \"age\", \n",
    "    ]\n",
    "    addon = \"\\t\".join(newheadings)\n",
    "    prpTT.write(\"\\t\".join([rer, addon]))\n",
    "    prpTT.write(\"\\n\")\n",
    "        \n",
    "    for lignes in asfl:\n",
    "        lignes = lignes.strip(\"\\n\")\n",
    "        assmts = lignes.split(\"\\t\")\n",
    "        panelID = \"_\".join([\"HIPCBaylor\", assmts[1], \"physical_exam\"])\n",
    "        compIDcmas = \"_\".join([\"HIPCBaylor\", assmts[1], \"CMAS\"])\n",
    "        compIDmmt8 = \"_\".join([\"HIPCBaylor\", assmts[1], \"MMT8\"])\n",
    "        compIDglob = \"_\".join([\"HIPCBaylor\", assmts[1], \"MD_Global\"])\n",
    "        compIDsympt = \"_\".join([\"HIPCBaylor\", assmts[1], \"Symptoms\"])\n",
    "        newcols = \"\\t\".join([panelID, compIDcmas, compIDglob, compIDmmt8, compIDsympt, ages[assmts[0]]])\n",
    "        prpTT.write(\"\\t\".join([lignes, newcols]))\n",
    "        prpTT.write(\"\\n\")"
   ]
  },
  {
   "cell_type": "code",
   "execution_count": null,
   "metadata": {
    "collapsed": true
   },
   "outputs": [],
   "source": []
  },
  {
   "cell_type": "code",
   "execution_count": null,
   "metadata": {
    "collapsed": true
   },
   "outputs": [],
   "source": []
  },
  {
   "cell_type": "code",
   "execution_count": null,
   "metadata": {
    "collapsed": true,
    "scrolled": true
   },
   "outputs": [],
   "source": [
    "## INTERVENTIONS\n",
    "\n",
    "#interprep = \"/home/cthomas/Desktop/cris/projects/BDD1724/files/subjects_interventions_BDD1724.txt\"\n",
    "interpret = parent_dir + 'files/subjects_interventions_BDD1724.txt'\n",
    "interpret = exists(interpret, 'subjects_interventions_BDD1724.txt: yeah no hints here...')\n",
    "\n",
    "#interventions = \"/home/cthomas/Desktop/cris/projects/BDD1724/files/interventions.txt\"\n",
    "suffixcount = {\"SDY369\":0, \"SDY372\":0, \"SDY376\":0}\n",
    "empty = \"\"\n",
    "\n",
    "with open(interprep, \"r\") as ip, open(interventions, \"w\") as iv:\n",
    "    ## prep template:\n",
    "    iv.write(\"\\t\".join([\"interventions\",\"Schema Version 2.30\",\"Content Version 2.30\"]))\n",
    "    iv.write(\"\\n\")\n",
    "    iv.write(\"Please do not delete or edit this column\\n\")\n",
    "    iv.write(\"\\t\".join([\"Column Name\",\"Intervention User-Defined ID\",\"Subject ID\",\"Study ID\",\n",
    "                        \"Name\",\"Compound Name\",\"Compound Role\",\"Dose Reported\",\"Start Day\",\n",
    "                        \"End Day\",\"Status\",\"Indication\",\"Formulation\",\"Dose\",\"Dose Units\",\n",
    "                        \"Dose Frequency per Interval\",\"Route of Administration\",\"Is Ongoing\",\n",
    "                        \"Start Time\",\"End Time\",\"Start Day From Partial Date\",\n",
    "                        \"End Day From Partial Date\",\"Duration\",\"Duration Unit\"]))\n",
    "    iv.write(\"\\n\")\n",
    "    \n",
    "    ## get data to write\n",
    "    ipfl = ip.readline()\n",
    "    for ipline in ip:\n",
    "        ipline = ipline.strip(\"\\n\")\n",
    "        ipstuff = ipline.split(\"\\t\")\n",
    "        suffixcount[ipstuff[1]] += 1\n",
    "        doseReported = \"UNK\"\n",
    "        if re.match(\"\\d\", ipstuff[7]):\n",
    "            doseReported = \" \".join([ipstuff[7], ipstuff[8]])\n",
    "        interID = \"_\".join([\"HIPCBaylor\", ipstuff[1], str(suffixcount[ipstuff[1]]).zfill(3)])\n",
    "\n",
    "        newstring = \"\\t\".join([empty, interID, ipstuff[0], ipstuff[1]])\n",
    "        newstring1 = \"\\t\".join([ipstuff[5],ipstuff[5],\"Concomitant Medication\",doseReported,ipstuff[3]])\n",
    "        newstring2 = \"\\t\".join([empty, empty, ipstuff[10], empty, ipstuff[7], ipstuff[8]])\n",
    "        newstring3 = \"\\t\".join([ipstuff[9], ipstuff[11]])\n",
    "        newstring4 = \"\\t\" * 6\n",
    "        iv.write(\"\\t\".join([newstring, newstring1, newstring2, newstring3, newstring4]))\n",
    "        iv.write(\"\\n\")\n",
    "    \n",
    "    \n",
    "    "
   ]
  },
  {
   "cell_type": "code",
   "execution_count": null,
   "metadata": {
    "collapsed": true
   },
   "outputs": [],
   "source": [
    "\n"
   ]
  },
  {
   "cell_type": "code",
   "execution_count": null,
   "metadata": {
    "collapsed": true
   },
   "outputs": [],
   "source": []
  },
  {
   "cell_type": "code",
   "execution_count": null,
   "metadata": {
    "collapsed": true
   },
   "outputs": [],
   "source": []
  }
 ],
 "metadata": {
  "kernelspec": {
   "display_name": "Python 3",
   "language": "python",
   "name": "python3"
  },
  "language_info": {
   "codemirror_mode": {
    "name": "ipython",
    "version": 3
   },
   "file_extension": ".py",
   "mimetype": "text/x-python",
   "name": "python",
   "nbconvert_exporter": "python",
   "pygments_lexer": "ipython3",
   "version": "3.6.1"
  }
 },
 "nbformat": 4,
 "nbformat_minor": 1
}

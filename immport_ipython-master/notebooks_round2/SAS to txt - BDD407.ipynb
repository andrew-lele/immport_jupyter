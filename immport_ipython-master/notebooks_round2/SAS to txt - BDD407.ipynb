{
 "cells": [
  {
   "cell_type": "code",
   "execution_count": 1,
   "metadata": {},
   "outputs": [
    {
     "ename": "ModuleNotFoundError",
     "evalue": "No module named 'sas7bdat'",
     "output_type": "error",
     "traceback": [
      "\u001b[0;31m---------------------------------------------------------------------------\u001b[0m",
      "\u001b[0;31mModuleNotFoundError\u001b[0m                       Traceback (most recent call last)",
      "\u001b[0;32m<ipython-input-1-a9499ca7cb57>\u001b[0m in \u001b[0;36m<module>\u001b[0;34m()\u001b[0m\n\u001b[0;32m----> 1\u001b[0;31m \u001b[0;32mfrom\u001b[0m \u001b[0msas7bdat\u001b[0m \u001b[0;32mimport\u001b[0m \u001b[0mSAS7BDAT\u001b[0m\u001b[0;34m\u001b[0m\u001b[0m\n\u001b[0m\u001b[1;32m      2\u001b[0m \u001b[0;32mimport\u001b[0m \u001b[0mpandas\u001b[0m \u001b[0;32mas\u001b[0m \u001b[0mpd\u001b[0m\u001b[0;34m\u001b[0m\u001b[0m\n\u001b[1;32m      3\u001b[0m \u001b[0;32mfrom\u001b[0m \u001b[0mdatetime\u001b[0m \u001b[0;32mimport\u001b[0m \u001b[0mdate\u001b[0m\u001b[0;34m\u001b[0m\u001b[0m\n\u001b[1;32m      4\u001b[0m \u001b[0;32mimport\u001b[0m \u001b[0mos\u001b[0m\u001b[0;34m\u001b[0m\u001b[0m\n\u001b[1;32m      5\u001b[0m \u001b[0;32mimport\u001b[0m \u001b[0mre\u001b[0m\u001b[0;34m\u001b[0m\u001b[0m\n",
      "\u001b[0;31mModuleNotFoundError\u001b[0m: No module named 'sas7bdat'"
     ]
    }
   ],
   "source": [
    "from sas7bdat import SAS7BDAT\n",
    "import pandas as pd\n",
    "from datetime import date\n",
    "import os\n",
    "import re \n",
    "import subprocess"
   ]
  },
  {
   "cell_type": "markdown",
   "metadata": {},
   "source": [
    "** JIRA BDD 407 **  \n",
    "Convert sas files to txt files, tab-separated.  \n",
    "Change all dates to number of days to date of vaccination as defined in ha_study_vaccination_format.sas7bdat.\n"
   ]
  },
  {
   "cell_type": "code",
   "execution_count": null,
   "metadata": {
    "collapsed": true
   },
   "outputs": [],
   "source": [
    "beg = 'Please enter file path for '\n",
    "sasfile_day0 = input(beg + 'sasfile: \\n')\n",
    "day0file = input(beg + \"day 0 file: \\n\")\n",
    "\n"
   ]
  },
  {
   "cell_type": "code",
   "execution_count": null,
   "metadata": {
    "scrolled": true
   },
   "outputs": [],
   "source": [
    "### Start with the file that has the vaccine dates to use as day 0\n",
    "#sasfile_day0 = \"/home/cthomas/Desktop/cris/projects/BDD407/converted_sasfiles/ha_study_vaccination_format.sas7bdat\"\n",
    "#day0file = \"/home/cthomas/Desktop/cris/projects/BDD407/ha_study_vaccination_format.txt\"\n",
    "\n",
    "with SAS7BDAT(sasfile_day0) as f:\n",
    "    df = f.to_data_frame()\n",
    "df.to_csv(day0file,sep=\"\\t\")\n",
    "df.head()"
   ]
  },
  {
   "cell_type": "code",
   "execution_count": null,
   "metadata": {
    "collapsed": true
   },
   "outputs": [],
   "source": [
    "## Get day 0 for all subjects:\n",
    "day0 = {}\n",
    "with open(day0file, \"r\") as day0f:\n",
    "    fl = day0f.readline()\n",
    "    \n",
    "    for lines in day0f:\n",
    "        elemts = lines.split(\"\\t\")\n",
    "        day0[elemts[1]]=elemts[8]\n"
   ]
  },
  {
   "cell_type": "code",
   "execution_count": null,
   "metadata": {},
   "outputs": [],
   "source": [
    "## Get the other sas files:\n",
    "some_path = os.path.split(os.path.realpath(sasfile_day0))[0]\n",
    "p = subprocess.Popen([\"ls\", some_path] , stdout=subprocess.PIPE)\n",
    "out, err = p.communicate()\n",
    "\n",
    "tmp = str(out).split(\"'\")\n",
    "sasFiles = tmp[1].split(\"\\\\n\") ## last one is empty\n",
    "\n",
    "## Get the path for the output txt files:\n",
    "txtFiles_path = os.path.split(os.path.realpath(some_path))[0]\n",
    "tmpTxtFiles_path = \"/\".join([txtFiles_path, \"tmp\"])\n",
    "os.makedirs(tmpTxtFiles_path, exist_ok=True)\n",
    "\n",
    "newTmpTxtFiles = []\n",
    "for sasFile in sasFiles:\n",
    "    if re.search(\"sas7bdat\", sasFile):\n",
    "        ## create output file name + save in array to use later\n",
    "        tmpf = sasFile.split(\".\")\n",
    "        tmpfname = \".\".join([tmpf[0], \"tmp.txt\"])\n",
    "\n",
    "        newTmpTxt = \"/\".join([tmpTxtFiles_path,tmpfname])\n",
    "        newTmpTxtFiles.append(newTmpTxt)\n",
    "\n",
    "        ssfile = \"/\".join([some_path, sasFile])\n",
    "        ## read in sas file\n",
    "        with SAS7BDAT(ssfile) as sasf:\n",
    "            df = sasf.to_data_frame()\n",
    "        df.to_csv(newTmpTxt,sep=\"\\t\")\n",
    "\n",
    "\n",
    "for newtextfiles in newTmpTxtFiles:\n",
    "    ## read in\n",
    "    with open(newtextfiles, \"r\") as tmpfile:\n",
    "        ## create final output name:\n",
    "        exSAS = os.path.split(os.path.realpath(newtextfiles))[1]\n",
    "        tmpExsas = exSAS.split(\".\")\n",
    "        fileNname = \".\".join([tmpExsas[0], \"txt\"])\n",
    "        convertedSAS = \"/\".join([txtFiles_path, fileNname])\n",
    "        ## check each column name for something like date\n",
    "        dateColumn = []\n",
    "        first_line = tmpfile.readline()\n",
    "        first_line = first_line.strip()\n",
    "        headers = first_line.split(\"\\t\") \n",
    "        for i in range(0, len(headers)):\n",
    "            if re.search(\"date\", headers[i].lower()):\n",
    "                dateColumn.append(i+1)\n",
    "\n",
    "        ## write in new file the corrected dates:\n",
    "        with open(convertedSAS, \"w\") as nwsas:\n",
    "            nwsas.write(first_line)\n",
    "            nwsas.write(\"\\n\")\n",
    "            print(convertedSAS)\n",
    "            \n",
    "            ## correct date format\n",
    "            for lines in tmpfile:\n",
    "                lines = lines.strip()\n",
    "                col = lines.split(\"\\t\")\n",
    "                nwsas.write(col[1])\n",
    "                for j in range(2, len(col)):\n",
    "                    if j in dateColumn:\n",
    "                        if re.match(\"\\d\\d\\d\\d-\\d\\d-\\d\\d\", col[j]):\n",
    "                            yr0, mh0, dy0 = day0[col[1]].split(\"-\") ## hoping that the delimiter is - for all dates.\n",
    "                            yr, mh, dy = col[j].split(\"-\")\n",
    "                         \n",
    "                            newdate = date(int(yr), int(mh), int(dy)) - date(int(yr0), int(mh0), int(dy0))\n",
    "                            nwsas.write(\"\".join([\"\\t\", str(newdate.days)]))\n",
    "                        else:\n",
    "                            nwsas.write(\"\".join([\"\\t\",col[j]]))\n",
    "                    else:\n",
    "                        nwsas.write(\"\".join([\"\\t\",col[j]]))\n",
    "                nwsas.write(\"\\n\")\n",
    "                    \n",
    "                \n",
    "                "
   ]
  },
  {
   "cell_type": "code",
   "execution_count": null,
   "metadata": {
    "collapsed": true
   },
   "outputs": [],
   "source": []
  }
 ],
 "metadata": {
  "kernelspec": {
   "display_name": "Python 3",
   "language": "python",
   "name": "python3"
  },
  "language_info": {
   "codemirror_mode": {
    "name": "ipython",
    "version": 3
   },
   "file_extension": ".py",
   "mimetype": "text/x-python",
   "name": "python",
   "nbconvert_exporter": "python",
   "pygments_lexer": "ipython3",
   "version": "3.6.1"
  }
 },
 "nbformat": 4,
 "nbformat_minor": 1
}
